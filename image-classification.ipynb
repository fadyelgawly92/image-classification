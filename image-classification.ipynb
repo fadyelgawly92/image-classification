{
 "cells": [
  {
   "cell_type": "code",
   "execution_count": 1,
   "id": "9d227503",
   "metadata": {
    "_cell_guid": "b1076dfc-b9ad-4769-8c92-a6c4dae69d19",
    "_uuid": "8f2839f25d086af736a60e9eeb907d3b93b6e0e5",
    "execution": {
     "iopub.execute_input": "2022-05-15T16:43:12.899391Z",
     "iopub.status.busy": "2022-05-15T16:43:12.898996Z",
     "iopub.status.idle": "2022-05-15T16:43:19.846875Z",
     "shell.execute_reply": "2022-05-15T16:43:19.846168Z"
    },
    "papermill": {
     "duration": 6.976391,
     "end_time": "2022-05-15T16:43:19.849252",
     "exception": false,
     "start_time": "2022-05-15T16:43:12.872861",
     "status": "completed"
    },
    "tags": []
   },
   "outputs": [],
   "source": [
    "import pandas as pd # data processing, CSV file I/O (e.g. pd.read_csv)\n",
    "\n",
    "import matplotlib.pyplot as plt\n",
    "import seaborn as sns\n",
    "\n",
    "import keras\n",
    "from keras.models import Sequential , Model , load_model\n",
    "from keras.layers import Dense, Conv2D , MaxPool2D , Flatten , Dropout , Input , Activation\n",
    "from keras.preprocessing.image import ImageDataGenerator , load_img , img_to_array\n",
    "from tensorflow.keras.optimizers import Adam , SGD , RMSprop\n",
    "from keras.applications.vgg16 import VGG16 , preprocess_input\n",
    "from keras.callbacks import Callback, EarlyStopping\n",
    "from tensorflow.keras.utils import to_categorical\n",
    "from sklearn.metrics import confusion_matrix\n",
    "from keras import backend as k\n",
    "\n",
    "from sklearn.metrics import classification_report,confusion_matrix\n",
    "\n",
    "import tensorflow as tf\n",
    "\n",
    "import cv2\n",
    "import os\n",
    "import glob\n",
    "\n",
    "import numpy as np\n",
    "import pandas as pd\n",
    "from PIL import Image\n",
    "from pathlib import Path\n",
    "import matplotlib.pyplot as plt\n",
    "%matplotlib inline"
   ]
  },
  {
   "cell_type": "code",
   "execution_count": 2,
   "id": "99486019",
   "metadata": {
    "execution": {
     "iopub.execute_input": "2022-05-15T16:43:19.894471Z",
     "iopub.status.busy": "2022-05-15T16:43:19.893858Z",
     "iopub.status.idle": "2022-05-15T16:43:19.903599Z",
     "shell.execute_reply": "2022-05-15T16:43:19.902831Z"
    },
    "papermill": {
     "duration": 0.034381,
     "end_time": "2022-05-15T16:43:19.905637",
     "exception": false,
     "start_time": "2022-05-15T16:43:19.871256",
     "status": "completed"
    },
    "tags": []
   },
   "outputs": [
    {
     "name": "stdout",
     "output_type": "stream",
     "text": [
      "['chest_xray', '__MACOSX', 'val', 'test', 'train']\n"
     ]
    }
   ],
   "source": [
    "print(os.listdir(\"../input/chest-xray-pneumonia/chest_xray\"))"
   ]
  },
  {
   "cell_type": "code",
   "execution_count": 3,
   "id": "1e0e96cf",
   "metadata": {
    "execution": {
     "iopub.execute_input": "2022-05-15T16:43:19.952169Z",
     "iopub.status.busy": "2022-05-15T16:43:19.951498Z",
     "iopub.status.idle": "2022-05-15T16:43:19.955631Z",
     "shell.execute_reply": "2022-05-15T16:43:19.954938Z"
    },
    "papermill": {
     "duration": 0.029073,
     "end_time": "2022-05-15T16:43:19.957416",
     "exception": false,
     "start_time": "2022-05-15T16:43:19.928343",
     "status": "completed"
    },
    "tags": []
   },
   "outputs": [],
   "source": [
    "data_dir = Path('../input/chest-xray-pneumonia/chest_xray')\n",
    "train_dir = data_dir/'train'\n",
    "val_dir = data_dir/'val'\n",
    "test_dir = data_dir/'test'"
   ]
  },
  {
   "cell_type": "code",
   "execution_count": 4,
   "id": "475bfe18",
   "metadata": {
    "execution": {
     "iopub.execute_input": "2022-05-15T16:43:20.003728Z",
     "iopub.status.busy": "2022-05-15T16:43:20.003469Z",
     "iopub.status.idle": "2022-05-15T16:43:20.010396Z",
     "shell.execute_reply": "2022-05-15T16:43:20.009616Z"
    },
    "papermill": {
     "duration": 0.03246,
     "end_time": "2022-05-15T16:43:20.012119",
     "exception": false,
     "start_time": "2022-05-15T16:43:19.979659",
     "status": "completed"
    },
    "tags": []
   },
   "outputs": [],
   "source": [
    "def load_train():\n",
    "    normal_cases_dir = train_dir / 'NORMAL'\n",
    "    pneumonia_cases_dir = train_dir / 'PNEUMONIA'\n",
    "    # get the list of all images\n",
    "    normal_cases = normal_cases_dir.glob('*.jpeg')\n",
    "    pneumonia_cases = pneumonia_cases_dir.glob('*.jpeg')\n",
    "    \n",
    "    train_data = []\n",
    "    train_label = []\n",
    "    \n",
    "    for img in normal_cases:\n",
    "        train_data.append(img)\n",
    "        train_label.append('NORMAL')\n",
    "    for img in pneumonia_cases:\n",
    "        train_data.append(img)\n",
    "        train_label.append('PNEUMONIA')\n",
    "    \n",
    "    df = pd.DataFrame(train_data)\n",
    "    df.columns = ['images']\n",
    "    df['labels'] = train_label\n",
    "    df = df.sample(frac=1).reset_index(drop=True)\n",
    "    return df"
   ]
  },
  {
   "cell_type": "code",
   "execution_count": 5,
   "id": "7e291c6e",
   "metadata": {
    "execution": {
     "iopub.execute_input": "2022-05-15T16:43:20.057441Z",
     "iopub.status.busy": "2022-05-15T16:43:20.056882Z",
     "iopub.status.idle": "2022-05-15T16:43:20.510123Z",
     "shell.execute_reply": "2022-05-15T16:43:20.509464Z"
    },
    "papermill": {
     "duration": 0.478173,
     "end_time": "2022-05-15T16:43:20.512526",
     "exception": false,
     "start_time": "2022-05-15T16:43:20.034353",
     "status": "completed"
    },
    "tags": []
   },
   "outputs": [
    {
     "data": {
      "text/plain": [
       "(5216, 2)"
      ]
     },
     "execution_count": 5,
     "metadata": {},
     "output_type": "execute_result"
    }
   ],
   "source": [
    "train_data = load_train()\n",
    "train_data.shape"
   ]
  },
  {
   "cell_type": "code",
   "execution_count": 6,
   "id": "79fb9408",
   "metadata": {
    "execution": {
     "iopub.execute_input": "2022-05-15T16:43:20.561111Z",
     "iopub.status.busy": "2022-05-15T16:43:20.560901Z",
     "iopub.status.idle": "2022-05-15T16:43:20.573102Z",
     "shell.execute_reply": "2022-05-15T16:43:20.572066Z"
    },
    "papermill": {
     "duration": 0.040241,
     "end_time": "2022-05-15T16:43:20.575530",
     "exception": false,
     "start_time": "2022-05-15T16:43:20.535289",
     "status": "completed"
    },
    "tags": []
   },
   "outputs": [
    {
     "name": "stdout",
     "output_type": "stream",
     "text": [
      "[1.9448173  0.67303226]\n"
     ]
    }
   ],
   "source": [
    "target_labels = np.array(train_data['labels'])\n",
    "from sklearn.utils.class_weight import compute_class_weight\n",
    "class_weights = compute_class_weight(class_weight = \"balanced\", classes= np.unique(target_labels), y= target_labels)\n",
    "print(class_weights)"
   ]
  },
  {
   "cell_type": "code",
   "execution_count": 7,
   "id": "3c6d5dc2",
   "metadata": {
    "execution": {
     "iopub.execute_input": "2022-05-15T16:43:20.623407Z",
     "iopub.status.busy": "2022-05-15T16:43:20.622813Z",
     "iopub.status.idle": "2022-05-15T16:43:20.628129Z",
     "shell.execute_reply": "2022-05-15T16:43:20.627460Z"
    },
    "papermill": {
     "duration": 0.030298,
     "end_time": "2022-05-15T16:43:20.629946",
     "exception": false,
     "start_time": "2022-05-15T16:43:20.599648",
     "status": "completed"
    },
    "tags": []
   },
   "outputs": [
    {
     "data": {
      "text/plain": [
       "{0: 1.9448173005219984, 1: 0.6730322580645162}"
      ]
     },
     "execution_count": 7,
     "metadata": {},
     "output_type": "execute_result"
    }
   ],
   "source": [
    "{v: k for v, k in enumerate(class_weights)}"
   ]
  },
  {
   "cell_type": "code",
   "execution_count": 8,
   "id": "53cc7d2b",
   "metadata": {
    "execution": {
     "iopub.execute_input": "2022-05-15T16:43:20.676324Z",
     "iopub.status.busy": "2022-05-15T16:43:20.676118Z",
     "iopub.status.idle": "2022-05-15T16:43:20.848998Z",
     "shell.execute_reply": "2022-05-15T16:43:20.848251Z"
    },
    "papermill": {
     "duration": 0.197874,
     "end_time": "2022-05-15T16:43:20.850898",
     "exception": false,
     "start_time": "2022-05-15T16:43:20.653024",
     "status": "completed"
    },
    "tags": []
   },
   "outputs": [
    {
     "data": {
      "image/png": "[encoded data removed]",
      "text/plain": [
       "<Figure size 432x288 with 1 Axes>"
      ]
     },
     "metadata": {
      "needs_background": "light"
     },
     "output_type": "display_data"
    }
   ],
   "source": [
    "plt.bar(train_data['labels'].value_counts().index, train_data['labels'].value_counts().values)\n",
    "plt.show()"
   ]
  },
  {
   "cell_type": "code",
   "execution_count": 9,
   "id": "5f9c9270",
   "metadata": {
    "execution": {
     "iopub.execute_input": "2022-05-15T16:43:20.902945Z",
     "iopub.status.busy": "2022-05-15T16:43:20.902638Z",
     "iopub.status.idle": "2022-05-15T16:43:20.907823Z",
     "shell.execute_reply": "2022-05-15T16:43:20.907154Z"
    },
    "papermill": {
     "duration": 0.033531,
     "end_time": "2022-05-15T16:43:20.909835",
     "exception": false,
     "start_time": "2022-05-15T16:43:20.876304",
     "status": "completed"
    },
    "tags": []
   },
   "outputs": [],
   "source": [
    "def plot(image_batch , label_batch):\n",
    "    plt.figure(figsize=(10,5))\n",
    "    for i in range(10):\n",
    "        ax = plt.subplot(2,5,i+1)\n",
    "        img = cv2.imread(str(image_batch[i]))\n",
    "        img = cv2.resize(img , (224,224))\n",
    "        plt.imshow(img)\n",
    "        plt.title(label_batch[i])\n",
    "        plt.axis('off')"
   ]
  },
  {
   "cell_type": "code",
   "execution_count": 10,
   "id": "b0223e57",
   "metadata": {
    "execution": {
     "iopub.execute_input": "2022-05-15T16:43:20.958794Z",
     "iopub.status.busy": "2022-05-15T16:43:20.958014Z",
     "iopub.status.idle": "2022-05-15T16:43:21.688357Z",
     "shell.execute_reply": "2022-05-15T16:43:21.687604Z"
    },
    "papermill": {
     "duration": 0.758169,
     "end_time": "2022-05-15T16:43:21.691825",
     "exception": false,
     "start_time": "2022-05-15T16:43:20.933656",
     "status": "completed"
    },
    "tags": []
   },
   "outputs": [
    {
     "data": {
      "image/png": "[encoded data removed]",
      "text/plain": [
       "<Figure size 720x360 with 10 Axes>"
      ]
     },
     "metadata": {
      "needs_background": "light"
     },
     "output_type": "display_data"
    }
   ],
   "source": [
    "plot(train_data['images'] , train_data['labels'])"
   ]
  },
  {
   "cell_type": "code",
   "execution_count": 11,
   "id": "d9da1855",
   "metadata": {
    "execution": {
     "iopub.execute_input": "2022-05-15T16:43:21.747017Z",
     "iopub.status.busy": "2022-05-15T16:43:21.746786Z",
     "iopub.status.idle": "2022-05-15T16:43:21.753789Z",
     "shell.execute_reply": "2022-05-15T16:43:21.752998Z"
    },
    "papermill": {
     "duration": 0.036981,
     "end_time": "2022-05-15T16:43:21.755875",
     "exception": false,
     "start_time": "2022-05-15T16:43:21.718894",
     "status": "completed"
    },
    "tags": []
   },
   "outputs": [],
   "source": [
    "def prepare(case , normal_cases=False):\n",
    "    data , labels = ([] for x in range(2))\n",
    "    for img in case:\n",
    "        img = cv2.imread(str(img))\n",
    "        img = cv2.resize(img , (224,224))\n",
    "        if img.shape[2] == 1:\n",
    "            img = np.dstack([img,img,img])\n",
    "        img = cv2.cvtColor(img , cv2.COLOR_BGR2RGB)\n",
    "        img = img.astype(np.float32)/255\n",
    "        if normal_cases:\n",
    "            label = to_categorical(0, num_classes=2)\n",
    "        else:\n",
    "            label = to_categorical(1, num_classes=2)\n",
    "        data.append(img)\n",
    "        labels.append(label)\n",
    "    return data,labels "
   ]
  },
  {
   "cell_type": "code",
   "execution_count": 12,
   "id": "71b48ac1",
   "metadata": {
    "execution": {
     "iopub.execute_input": "2022-05-15T16:43:21.811455Z",
     "iopub.status.busy": "2022-05-15T16:43:21.811180Z",
     "iopub.status.idle": "2022-05-15T16:43:21.816880Z",
     "shell.execute_reply": "2022-05-15T16:43:21.816169Z"
    },
    "papermill": {
     "duration": 0.035263,
     "end_time": "2022-05-15T16:43:21.818591",
     "exception": false,
     "start_time": "2022-05-15T16:43:21.783328",
     "status": "completed"
    },
    "tags": []
   },
   "outputs": [],
   "source": [
    "def prepare_and_load(isval=True):\n",
    "    if isval == True:\n",
    "        normal_dir = val_dir/'NORMAL'\n",
    "        pneumonia_dir = val_dir / 'PNEUMONIA'\n",
    "    else:\n",
    "        normal_dir = test_dir/'NORMAL'\n",
    "        pneumonia_dir = test_dir / 'PNEUMONIA'\n",
    "    normal_cases = normal_dir.glob('*.jpeg')\n",
    "    pneumonia_cases = pneumonia_dir.glob('*.jpeg')\n",
    "    \n",
    "    f,k = prepare(normal_cases , True)\n",
    "    d,l = prepare(pneumonia_cases)\n",
    "    d = np.array(d + f)\n",
    "    l = np.array(l + k)\n",
    "    return d,l"
   ]
  },
  {
   "cell_type": "code",
   "execution_count": 13,
   "id": "d540680c",
   "metadata": {
    "execution": {
     "iopub.execute_input": "2022-05-15T16:43:21.873189Z",
     "iopub.status.busy": "2022-05-15T16:43:21.872964Z",
     "iopub.status.idle": "2022-05-15T16:43:33.170871Z",
     "shell.execute_reply": "2022-05-15T16:43:33.169868Z"
    },
    "papermill": {
     "duration": 11.328682,
     "end_time": "2022-05-15T16:43:33.173426",
     "exception": false,
     "start_time": "2022-05-15T16:43:21.844744",
     "status": "completed"
    },
    "tags": []
   },
   "outputs": [
    {
     "name": "stdout",
     "output_type": "stream",
     "text": [
      "Number of test images ---> 624\n",
      "Number of validation images ---> 16\n"
     ]
    }
   ],
   "source": [
    "val_data,val_labels = prepare_and_load(isval=True)\n",
    "test_data,test_labels = prepare_and_load(isval=False)\n",
    "print('Number of test images --->',len(test_data))\n",
    "print('Number of validation images --->',len(val_data))"
   ]
  },
  {
   "cell_type": "code",
   "execution_count": 14,
   "id": "a515ba14",
   "metadata": {
    "execution": {
     "iopub.execute_input": "2022-05-15T16:43:33.229497Z",
     "iopub.status.busy": "2022-05-15T16:43:33.229226Z",
     "iopub.status.idle": "2022-05-15T16:43:33.239533Z",
     "shell.execute_reply": "2022-05-15T16:43:33.238805Z"
    },
    "papermill": {
     "duration": 0.040006,
     "end_time": "2022-05-15T16:43:33.241234",
     "exception": false,
     "start_time": "2022-05-15T16:43:33.201228",
     "status": "completed"
    },
    "tags": []
   },
   "outputs": [],
   "source": [
    "def data_gen(data,batch_size):\n",
    "    # get total number of samples in the data\n",
    "    n = len(data)\n",
    "    steps = n//batch_size\n",
    "    \n",
    "    #define two numpy arrays for containing batch data and labels\n",
    "    batch_data = np.zeros((batch_size, 224,224,3), dtype=np.float32)\n",
    "    batch_labels = np.zeros((batch_size,2), dtype=np.float32)\n",
    "    \n",
    "    #get a numpy array of all the indices of the input data\n",
    "    indices = np.arange(n)\n",
    "    \n",
    "    #initialize a counter\n",
    "    i = 0\n",
    "    while True:\n",
    "        np.random.shuffle(indices)\n",
    "        #get the next batch\n",
    "        count = 0\n",
    "        next_batch = indices[(i*batch_size):(i+1)*batch_size]\n",
    "        for j , idx in enumerate (next_batch):\n",
    "            img_name = data.iloc[idx]['images']\n",
    "            label = data.iloc[idx]['labels']\n",
    "            if label == 'NORMAL':\n",
    "                label = 0\n",
    "            else:\n",
    "                label = 1\n",
    "            #one hot encoding\n",
    "            encoded_label = to_categorical(label,num_classes=2)\n",
    "            #read the image and resize\n",
    "            img = cv2.imread(str(img_name))\n",
    "            img = cv2.resize(img,(224,224))\n",
    "            \n",
    "            #check if its gray scale\n",
    "            if img.shape[2] == 1:\n",
    "                img = np.dstack([img, img, img])\n",
    "                \n",
    "            #cv2 reads in BGR mode by default\n",
    "            orig_img = cv2.cvtColor(img, cv2.COLOR_BGR2RGB)\n",
    "            #normalize the image pixels\n",
    "            orig_img = img.astype(np.float32)/255\n",
    "            \n",
    "            batch_data[count] = orig_img\n",
    "            batch_labels[count] = encoded_label\n",
    "            \n",
    "            count +=1\n",
    "            \n",
    "            if count==batch_size-1:\n",
    "                break\n",
    "            \n",
    "        i +=1\n",
    "        yield batch_data,batch_labels\n",
    "        \n",
    "        if i>= steps:\n",
    "            i=0"
   ]
  },
  {
   "cell_type": "code",
   "execution_count": 15,
   "id": "4cf1522c",
   "metadata": {
    "execution": {
     "iopub.execute_input": "2022-05-15T16:43:33.296737Z",
     "iopub.status.busy": "2022-05-15T16:43:33.295949Z",
     "iopub.status.idle": "2022-05-15T16:43:36.278451Z",
     "shell.execute_reply": "2022-05-15T16:43:36.277606Z"
    },
    "papermill": {
     "duration": 3.012983,
     "end_time": "2022-05-15T16:43:36.281323",
     "exception": false,
     "start_time": "2022-05-15T16:43:33.268340",
     "status": "completed"
    },
    "tags": []
   },
   "outputs": [
    {
     "name": "stderr",
     "output_type": "stream",
     "text": [
      "2022-05-15 16:43:33.380038: I tensorflow/stream_executor/cuda/cuda_gpu_executor.cc:937] successful NUMA node read from SysFS had negative value (-1), but there must be at least one NUMA node, so returning NUMA node zero\n",
      "2022-05-15 16:43:33.495659: I tensorflow/stream_executor/cuda/cuda_gpu_executor.cc:937] successful NUMA node read from SysFS had negative value (-1), but there must be at least one NUMA node, so returning NUMA node zero\n",
      "2022-05-15 16:43:33.496605: I tensorflow/stream_executor/cuda/cuda_gpu_executor.cc:937] successful NUMA node read from SysFS had negative value (-1), but there must be at least one NUMA node, so returning NUMA node zero\n",
      "2022-05-15 16:43:33.497915: I tensorflow/core/platform/cpu_feature_guard.cc:142] This TensorFlow binary is optimized with oneAPI Deep Neural Network Library (oneDNN) to use the following CPU instructions in performance-critical operations:  AVX2 AVX512F FMA\n",
      "To enable them in other operations, rebuild TensorFlow with the appropriate compiler flags.\n",
      "2022-05-15 16:43:33.498245: I tensorflow/stream_executor/cuda/cuda_gpu_executor.cc:937] successful NUMA node read from SysFS had negative value (-1), but there must be at least one NUMA node, so returning NUMA node zero\n",
      "2022-05-15 16:43:33.499003: I tensorflow/stream_executor/cuda/cuda_gpu_executor.cc:937] successful NUMA node read from SysFS had negative value (-1), but there must be at least one NUMA node, so returning NUMA node zero\n",
      "2022-05-15 16:43:33.499708: I tensorflow/stream_executor/cuda/cuda_gpu_executor.cc:937] successful NUMA node read from SysFS had negative value (-1), but there must be at least one NUMA node, so returning NUMA node zero\n",
      "2022-05-15 16:43:35.835631: I tensorflow/stream_executor/cuda/cuda_gpu_executor.cc:937] successful NUMA node read from SysFS had negative value (-1), but there must be at least one NUMA node, so returning NUMA node zero\n",
      "2022-05-15 16:43:35.836591: I tensorflow/stream_executor/cuda/cuda_gpu_executor.cc:937] successful NUMA node read from SysFS had negative value (-1), but there must be at least one NUMA node, so returning NUMA node zero\n",
      "2022-05-15 16:43:35.837261: I tensorflow/stream_executor/cuda/cuda_gpu_executor.cc:937] successful NUMA node read from SysFS had negative value (-1), but there must be at least one NUMA node, so returning NUMA node zero\n",
      "2022-05-15 16:43:35.838819: I tensorflow/core/common_runtime/gpu/gpu_device.cc:1510] Created device /job:localhost/replica:0/task:0/device:GPU:0 with 15403 MB memory:  -> device: 0, name: Tesla P100-PCIE-16GB, pci bus id: 0000:00:04.0, compute capability: 6.0\n"
     ]
    }
   ],
   "source": [
    "model = Sequential()\n",
    "model.add(Conv2D(32,(3,3),input_shape=(224,224,3)))\n",
    "model.add(Activation('relu'))\n",
    "model.add(MaxPool2D(pool_size=(2,2)))\n",
    "\n",
    "model.add(Conv2D(32,(3,3)))\n",
    "model.add(Activation('relu'))\n",
    "model.add(MaxPool2D(pool_size=(2,2)))\n",
    "\n",
    "model.add(Conv2D(64,(3,3)))\n",
    "model.add(Activation('relu'))\n",
    "model.add(MaxPool2D(pool_size=(2,2)))\n",
    "\n",
    "model.add(Flatten()) #this convert our 3d feature maps to 1D feature vector\n",
    "\n",
    "model.add(Dense(64))\n",
    "model.add(Activation('relu'))\n",
    "model.add(Dense(2))\n",
    "model.add(Activation('sigmoid'))"
   ]
  },
  {
   "cell_type": "code",
   "execution_count": 16,
   "id": "938f1c05",
   "metadata": {
    "execution": {
     "iopub.execute_input": "2022-05-15T16:43:36.346873Z",
     "iopub.status.busy": "2022-05-15T16:43:36.346584Z",
     "iopub.status.idle": "2022-05-15T16:43:36.352816Z",
     "shell.execute_reply": "2022-05-15T16:43:36.351858Z"
    },
    "papermill": {
     "duration": 0.043008,
     "end_time": "2022-05-15T16:43:36.356737",
     "exception": false,
     "start_time": "2022-05-15T16:43:36.313729",
     "status": "completed"
    },
    "tags": []
   },
   "outputs": [
    {
     "name": "stdout",
     "output_type": "stream",
     "text": [
      "Number of training and validation steps : 326 and 16\n"
     ]
    }
   ],
   "source": [
    "batch_size=16\n",
    "nb_epochs = 3\n",
    "\n",
    "# get a train data generator\n",
    "train_data_gen = data_gen(data=train_data,batch_size=batch_size)\n",
    "\n",
    "#define the number of training steps\n",
    "nb_train_steps = train_data.shape[0] // batch_size\n",
    "\n",
    "print(\"Number of training and validation steps : {} and {}\".format(nb_train_steps, len(val_data)))"
   ]
  },
  {
   "cell_type": "code",
   "execution_count": 17,
   "id": "2d09e69f",
   "metadata": {
    "execution": {
     "iopub.execute_input": "2022-05-15T16:43:36.423747Z",
     "iopub.status.busy": "2022-05-15T16:43:36.422068Z",
     "iopub.status.idle": "2022-05-15T16:47:54.431763Z",
     "shell.execute_reply": "2022-05-15T16:47:54.430916Z"
    },
    "papermill": {
     "duration": 258.044725,
     "end_time": "2022-05-15T16:47:54.434023",
     "exception": false,
     "start_time": "2022-05-15T16:43:36.389298",
     "status": "completed"
    },
    "tags": []
   },
   "outputs": [
    {
     "name": "stderr",
     "output_type": "stream",
     "text": [
      "/opt/conda/lib/python3.7/site-packages/keras/engine/training.py:1972: UserWarning: `Model.fit_generator` is deprecated and will be removed in a future version. Please use `Model.fit`, which supports generators.\n",
      "  warnings.warn('`Model.fit_generator` is deprecated and '\n",
      "2022-05-15 16:43:37.016070: I tensorflow/compiler/mlir/mlir_graph_optimization_pass.cc:185] None of the MLIR Optimization Passes are enabled (registered 2)\n"
     ]
    },
    {
     "name": "stdout",
     "output_type": "stream",
     "text": [
      "Epoch 1/3\n"
     ]
    },
    {
     "name": "stderr",
     "output_type": "stream",
     "text": [
      "2022-05-15 16:43:38.485069: I tensorflow/stream_executor/cuda/cuda_dnn.cc:369] Loaded cuDNN version 8005\n"
     ]
    },
    {
     "name": "stdout",
     "output_type": "stream",
     "text": [
      "326/326 [==============================] - 99s 283ms/step - loss: 0.1712 - accuracy: 0.8794 - val_loss: 0.1117 - val_accuracy: 1.0000\n",
      "Epoch 2/3\n",
      "326/326 [==============================] - 83s 257ms/step - loss: 0.0879 - accuracy: 0.9076 - val_loss: 0.3557 - val_accuracy: 0.7500\n",
      "Epoch 3/3\n",
      "326/326 [==============================] - 74s 229ms/step - loss: 0.0623 - accuracy: 0.9179 - val_loss: 0.0871 - val_accuracy: 1.0000\n"
     ]
    }
   ],
   "source": [
    "model.compile(loss='binary_crossentropy',\n",
    "             optimizer='adam',\n",
    "             metrics=['accuracy'])\n",
    "\n",
    "# fit the model\n",
    "history = model.fit_generator(train_data_gen,epochs=nb_epochs,steps_per_epoch=nb_train_steps,validation_data=(val_data,val_labels))"
   ]
  },
  {
   "cell_type": "code",
   "execution_count": 18,
   "id": "3de28b7c",
   "metadata": {
    "execution": {
     "iopub.execute_input": "2022-05-15T16:47:55.119527Z",
     "iopub.status.busy": "2022-05-15T16:47:55.119223Z",
     "iopub.status.idle": "2022-05-15T16:47:55.124962Z",
     "shell.execute_reply": "2022-05-15T16:47:55.124303Z"
    },
    "papermill": {
     "duration": 0.3424,
     "end_time": "2022-05-15T16:47:55.126571",
     "exception": false,
     "start_time": "2022-05-15T16:47:54.784171",
     "status": "completed"
    },
    "tags": []
   },
   "outputs": [],
   "source": [
    "def vgg16_model(num_classes=None):\n",
    "    \n",
    "    model = VGG16(weights='imagenet',include_top=True,input_shape=(224,224,3))\n",
    "    \n",
    "    x = Dense(1024,activation='relu')(model.layers[-4].output)\n",
    "    x = Dropout(0.7)(x)\n",
    "    x = Dense(521,activation='relu')(x)\n",
    "    x = Dropout(0.5)(x)\n",
    "    x = Dense(num_classes,activation='sigmoid')(x)\n",
    "    model = Model(model.input,x)\n",
    "    \n",
    "    return model"
   ]
  },
  {
   "cell_type": "code",
   "execution_count": 19,
   "id": "40c1bcc1",
   "metadata": {
    "execution": {
     "iopub.execute_input": "2022-05-15T16:47:55.799005Z",
     "iopub.status.busy": "2022-05-15T16:47:55.798492Z",
     "iopub.status.idle": "2022-05-15T16:47:59.294904Z",
     "shell.execute_reply": "2022-05-15T16:47:59.294049Z"
    },
    "papermill": {
     "duration": 3.838213,
     "end_time": "2022-05-15T16:47:59.297453",
     "exception": false,
     "start_time": "2022-05-15T16:47:55.459240",
     "status": "completed"
    },
    "tags": []
   },
   "outputs": [
    {
     "name": "stdout",
     "output_type": "stream",
     "text": [
      "Downloading data from https://storage.googleapis.com/tensorflow/keras-applications/vgg16/vgg16_weights_tf_dim_ordering_tf_kernels.h5\n",
      "553467904/553467096 [==============================] - 2s 0us/step\n",
      "553476096/553467096 [==============================] - 2s 0us/step\n"
     ]
    }
   ],
   "source": [
    "vgg_conv = vgg16_model(2)\n",
    "for layer in vgg_conv.layers[:-10]:\n",
    "    layer.trainable = False"
   ]
  },
  {
   "cell_type": "code",
   "execution_count": 20,
   "id": "f4a9cce3",
   "metadata": {
    "execution": {
     "iopub.execute_input": "2022-05-15T16:48:00.145324Z",
     "iopub.status.busy": "2022-05-15T16:48:00.145068Z",
     "iopub.status.idle": "2022-05-15T16:48:00.163134Z",
     "shell.execute_reply": "2022-05-15T16:48:00.162219Z"
    },
    "papermill": {
     "duration": 0.375745,
     "end_time": "2022-05-15T16:48:00.165856",
     "exception": false,
     "start_time": "2022-05-15T16:47:59.790111",
     "status": "completed"
    },
    "tags": []
   },
   "outputs": [
    {
     "name": "stdout",
     "output_type": "stream",
     "text": [
      "Model: \"model\"\n",
      "_________________________________________________________________\n",
      "Layer (type)                 Output Shape              Param #   \n",
      "=================================================================\n",
      "input_1 (InputLayer)         [(None, 224, 224, 3)]     0         \n",
      "_________________________________________________________________\n",
      "block1_conv1 (Conv2D)        (None, 224, 224, 64)      1792      \n",
      "_________________________________________________________________\n",
      "block1_conv2 (Conv2D)        (None, 224, 224, 64)      36928     \n",
      "_________________________________________________________________\n",
      "block1_pool (MaxPooling2D)   (None, 112, 112, 64)      0         \n",
      "_________________________________________________________________\n",
      "block2_conv1 (Conv2D)        (None, 112, 112, 128)     73856     \n",
      "_________________________________________________________________\n",
      "block2_conv2 (Conv2D)        (None, 112, 112, 128)     147584    \n",
      "_________________________________________________________________\n",
      "block2_pool (MaxPooling2D)   (None, 56, 56, 128)       0         \n",
      "_________________________________________________________________\n",
      "block3_conv1 (Conv2D)        (None, 56, 56, 256)       295168    \n",
      "_________________________________________________________________\n",
      "block3_conv2 (Conv2D)        (None, 56, 56, 256)       590080    \n",
      "_________________________________________________________________\n",
      "block3_conv3 (Conv2D)        (None, 56, 56, 256)       590080    \n",
      "_________________________________________________________________\n",
      "block3_pool (MaxPooling2D)   (None, 28, 28, 256)       0         \n",
      "_________________________________________________________________\n",
      "block4_conv1 (Conv2D)        (None, 28, 28, 512)       1180160   \n",
      "_________________________________________________________________\n",
      "block4_conv2 (Conv2D)        (None, 28, 28, 512)       2359808   \n",
      "_________________________________________________________________\n",
      "block4_conv3 (Conv2D)        (None, 28, 28, 512)       2359808   \n",
      "_________________________________________________________________\n",
      "block4_pool (MaxPooling2D)   (None, 14, 14, 512)       0         \n",
      "_________________________________________________________________\n",
      "block5_conv1 (Conv2D)        (None, 14, 14, 512)       2359808   \n",
      "_________________________________________________________________\n",
      "block5_conv2 (Conv2D)        (None, 14, 14, 512)       2359808   \n",
      "_________________________________________________________________\n",
      "block5_conv3 (Conv2D)        (None, 14, 14, 512)       2359808   \n",
      "_________________________________________________________________\n",
      "block5_pool (MaxPooling2D)   (None, 7, 7, 512)         0         \n",
      "_________________________________________________________________\n",
      "flatten (Flatten)            (None, 25088)             0         \n",
      "_________________________________________________________________\n",
      "dense_2 (Dense)              (None, 1024)              25691136  \n",
      "_________________________________________________________________\n",
      "dropout (Dropout)            (None, 1024)              0         \n",
      "_________________________________________________________________\n",
      "dense_3 (Dense)              (None, 521)               534025    \n",
      "_________________________________________________________________\n",
      "dropout_1 (Dropout)          (None, 521)               0         \n",
      "_________________________________________________________________\n",
      "dense_4 (Dense)              (None, 2)                 1044      \n",
      "=================================================================\n",
      "Total params: 40,940,893\n",
      "Trainable params: 33,305,629\n",
      "Non-trainable params: 7,635,264\n",
      "_________________________________________________________________\n"
     ]
    }
   ],
   "source": [
    "vgg_conv.summary()"
   ]
  },
  {
   "cell_type": "code",
   "execution_count": 21,
   "id": "0ec6c67c",
   "metadata": {
    "execution": {
     "iopub.execute_input": "2022-05-15T16:48:00.870442Z",
     "iopub.status.busy": "2022-05-15T16:48:00.870162Z",
     "iopub.status.idle": "2022-05-15T16:51:46.640999Z",
     "shell.execute_reply": "2022-05-15T16:51:46.640239Z"
    },
    "papermill": {
     "duration": 226.126318,
     "end_time": "2022-05-15T16:51:46.643628",
     "exception": false,
     "start_time": "2022-05-15T16:48:00.517310",
     "status": "completed"
    },
    "tags": []
   },
   "outputs": [
    {
     "name": "stderr",
     "output_type": "stream",
     "text": [
      "/opt/conda/lib/python3.7/site-packages/keras/optimizer_v2/optimizer_v2.py:356: UserWarning: The `lr` argument is deprecated, use `learning_rate` instead.\n",
      "  \"The `lr` argument is deprecated, use `learning_rate` instead.\")\n"
     ]
    },
    {
     "name": "stdout",
     "output_type": "stream",
     "text": [
      "Epoch 1/3\n",
      "326/326 [==============================] - 79s 235ms/step - loss: 0.2017 - accuracy: 0.8850 - val_loss: 0.0807 - val_accuracy: 1.0000\n",
      "Epoch 2/3\n",
      "326/326 [==============================] - 73s 225ms/step - loss: 0.0572 - accuracy: 0.9515 - val_loss: 0.0028 - val_accuracy: 1.0000\n",
      "Epoch 3/3\n",
      "326/326 [==============================] - 73s 225ms/step - loss: 0.0482 - accuracy: 0.9534 - val_loss: 0.0520 - val_accuracy: 1.0000\n"
     ]
    }
   ],
   "source": [
    "opt = Adam(lr=0.0001,decay=1e-5)\n",
    "vgg_conv.compile(loss='binary_crossentropy',metrics=['accuracy'],optimizer=opt)\n",
    "history = vgg_conv.fit_generator(train_data_gen,epochs=nb_epochs,steps_per_epoch=nb_train_steps,validation_data=(val_data,val_labels),\n",
    "                                class_weight = {v: k for v, k in enumerate(class_weights)})"
   ]
  },
  {
   "cell_type": "code",
   "execution_count": 22,
   "id": "6789a73d",
   "metadata": {
    "execution": {
     "iopub.execute_input": "2022-05-15T16:51:47.939950Z",
     "iopub.status.busy": "2022-05-15T16:51:47.939706Z",
     "iopub.status.idle": "2022-05-15T16:51:50.151666Z",
     "shell.execute_reply": "2022-05-15T16:51:50.150498Z"
    },
    "papermill": {
     "duration": 2.864067,
     "end_time": "2022-05-15T16:51:50.153994",
     "exception": false,
     "start_time": "2022-05-15T16:51:47.289927",
     "status": "completed"
    },
    "tags": []
   },
   "outputs": [
    {
     "name": "stdout",
     "output_type": "stream",
     "text": [
      "39/39 [==============================] - 2s 35ms/step - loss: 1.1355 - accuracy: 0.7692\n",
      "Loss and accuracy 1.1355321407318115 & 0.7692307829856873\n"
     ]
    }
   ],
   "source": [
    "loss , acc = vgg_conv.evaluate(test_data,test_labels,batch_size=16)\n",
    "print('Loss and accuracy',loss,'&',acc)"
   ]
  },
  {
   "cell_type": "code",
   "execution_count": 23,
   "id": "41bcc3cf",
   "metadata": {
    "execution": {
     "iopub.execute_input": "2022-05-15T16:51:51.703881Z",
     "iopub.status.busy": "2022-05-15T16:51:51.703627Z",
     "iopub.status.idle": "2022-05-15T16:51:53.872766Z",
     "shell.execute_reply": "2022-05-15T16:51:53.870937Z"
    },
    "papermill": {
     "duration": 2.882138,
     "end_time": "2022-05-15T16:51:53.875314",
     "exception": false,
     "start_time": "2022-05-15T16:51:50.993176",
     "status": "completed"
    },
    "tags": []
   },
   "outputs": [
    {
     "name": "stdout",
     "output_type": "stream",
     "text": [
      "              precision    recall  f1-score   support\n",
      "\n",
      "           0       0.98      0.39      0.56       234\n",
      "           1       0.73      0.99      0.84       390\n",
      "\n",
      "    accuracy                           0.77       624\n",
      "   macro avg       0.86      0.69      0.70       624\n",
      "weighted avg       0.82      0.77      0.74       624\n",
      "\n"
     ]
    }
   ],
   "source": [
    "#get predictions\n",
    "pred = vgg_conv.predict(test_data,batch_size=16)\n",
    "pred = np.argmax(pred,axis=-1)\n",
    "\n",
    "#original labels\n",
    "labels = np.argmax(test_labels,axis=-1)\n",
    "from sklearn.metrics import classification_report\n",
    "print(classification_report(labels,pred))"
   ]
  },
  {
   "cell_type": "code",
   "execution_count": 24,
   "id": "f69a8141",
   "metadata": {
    "execution": {
     "iopub.execute_input": "2022-05-15T16:51:55.219226Z",
     "iopub.status.busy": "2022-05-15T16:51:55.218976Z",
     "iopub.status.idle": "2022-05-15T16:51:55.452118Z",
     "shell.execute_reply": "2022-05-15T16:51:55.451440Z"
    },
    "papermill": {
     "duration": 0.915443,
     "end_time": "2022-05-15T16:51:55.454145",
     "exception": false,
     "start_time": "2022-05-15T16:51:54.538702",
     "status": "completed"
    },
    "tags": []
   },
   "outputs": [
    {
     "data": {
      "text/plain": [
       "<AxesSubplot:>"
      ]
     },
     "execution_count": 24,
     "metadata": {},
     "output_type": "execute_result"
    },
    {
     "data": {
      "image/png": "[encoded data removed]",
      "text/plain": [
       "<Figure size 432x288 with 2 Axes>"
      ]
     },
     "metadata": {
      "needs_background": "light"
     },
     "output_type": "display_data"
    }
   ],
   "source": [
    "#get the confusion matrix\n",
    "cm = confusion_matrix(labels,pred)\n",
    "sns.heatmap(cm,annot=True,fmt='g',xticklabels=['Normal','Pneumonia'],yticklabels=['Normal','Pneumonia'])"
   ]
  },
  {
   "cell_type": "code",
   "execution_count": null,
   "id": "03dc6eca",
   "metadata": {
    "papermill": {
     "duration": 0.671307,
     "end_time": "2022-05-15T16:51:56.787865",
     "exception": false,
     "start_time": "2022-05-15T16:51:56.116558",
     "status": "completed"
    },
    "tags": []
   },
   "outputs": [],
   "source": []
  }
 ],
 "metadata": {
  "kernelspec": {
   "display_name": "Python 3",
   "language": "python",
   "name": "python3"
  },
  "language_info": {
   "codemirror_mode": {
    "name": "ipython",
    "version": 3
   },
   "file_extension": ".py",
   "mimetype": "text/x-python",
   "name": "python",
   "nbconvert_exporter": "python",
   "pygments_lexer": "ipython3",
   "version": "3.7.12"
  },
  "papermill": {
   "default_parameters": {},
   "duration": 536.922035,
   "end_time": "2022-05-15T16:52:00.994754",
   "environment_variables": {},
   "exception": null,
   "input_path": "__notebook__.ipynb",
   "output_path": "__notebook__.ipynb",
   "parameters": {},
   "start_time": "2022-05-15T16:43:04.072719",
   "version": "2.3.4"
  }
 },
 "nbformat": 4,
 "nbformat_minor": 5
}
